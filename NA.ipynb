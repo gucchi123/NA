{
 "cells": [
  {
   "cell_type": "code",
   "execution_count": 1,
   "metadata": {
    "collapsed": false
   },
   "outputs": [],
   "source": [
    "import matplotlib as mpl\n",
    "import matplotlib.pyplot as plt\n",
    "import networkx as nx\n",
    "import visJS2jupyter.visJS_module\n",
    "import csv\n",
    "import pandas as pd\n",
    "\n",
    "%matplotlib inline"
   ]
  },
  {
   "cell_type": "code",
   "execution_count": 26,
   "metadata": {
    "collapsed": false,
    "scrolled": false
   },
   "outputs": [
    {
     "data": {
      "text/html": [
       "<div>\n",
       "<table border=\"1\" class=\"dataframe\">\n",
       "  <thead>\n",
       "    <tr style=\"text-align: right;\">\n",
       "      <th></th>\n",
       "      <th>step</th>\n",
       "      <th>type</th>\n",
       "      <th>amount</th>\n",
       "      <th>nameOrig</th>\n",
       "      <th>nameDest</th>\n",
       "      <th>isFraud</th>\n",
       "      <th>isFlaggedFraud</th>\n",
       "    </tr>\n",
       "  </thead>\n",
       "  <tbody>\n",
       "    <tr>\n",
       "      <th>0</th>\n",
       "      <td>1</td>\n",
       "      <td>PAYMENT</td>\n",
       "      <td>9839.64</td>\n",
       "      <td>C1234567</td>\n",
       "      <td>M9876543</td>\n",
       "      <td>0</td>\n",
       "      <td>1</td>\n",
       "    </tr>\n",
       "    <tr>\n",
       "      <th>1</th>\n",
       "      <td>2</td>\n",
       "      <td>PAYMENT</td>\n",
       "      <td>1864.28</td>\n",
       "      <td>C1234567</td>\n",
       "      <td>M9876542</td>\n",
       "      <td>0</td>\n",
       "      <td>1</td>\n",
       "    </tr>\n",
       "    <tr>\n",
       "      <th>2</th>\n",
       "      <td>3</td>\n",
       "      <td>TRANSFER</td>\n",
       "      <td>181.00</td>\n",
       "      <td>C1234567</td>\n",
       "      <td>M9876541</td>\n",
       "      <td>0</td>\n",
       "      <td>1</td>\n",
       "    </tr>\n",
       "    <tr>\n",
       "      <th>3</th>\n",
       "      <td>4</td>\n",
       "      <td>CASH_OUT</td>\n",
       "      <td>181.00</td>\n",
       "      <td>M9876543</td>\n",
       "      <td>C5555541</td>\n",
       "      <td>0</td>\n",
       "      <td>0</td>\n",
       "    </tr>\n",
       "    <tr>\n",
       "      <th>4</th>\n",
       "      <td>5</td>\n",
       "      <td>PAYMENT</td>\n",
       "      <td>11668.14</td>\n",
       "      <td>M9876543</td>\n",
       "      <td>C5555542</td>\n",
       "      <td>0</td>\n",
       "      <td>0</td>\n",
       "    </tr>\n",
       "  </tbody>\n",
       "</table>\n",
       "</div>"
      ],
      "text/plain": [
       "   step      type    amount  nameOrig  nameDest  isFraud  isFlaggedFraud\n",
       "0     1   PAYMENT   9839.64  C1234567  M9876543        0               1\n",
       "1     2   PAYMENT   1864.28  C1234567  M9876542        0               1\n",
       "2     3  TRANSFER    181.00  C1234567  M9876541        0               1\n",
       "3     4  CASH_OUT    181.00  M9876543  C5555541        0               0\n",
       "4     5   PAYMENT  11668.14  M9876543  C5555542        0               0"
      ]
     },
     "execution_count": 26,
     "metadata": {},
     "output_type": "execute_result"
    }
   ],
   "source": [
    "df = pd.read_csv(\"PS_SCEN2.csv\")\n",
    "#df = pd.read_csv(\"PS_LOG.csv\")\n",
    "df.head()"
   ]
  },
  {
   "cell_type": "code",
   "execution_count": 27,
   "metadata": {
    "collapsed": false
   },
   "outputs": [],
   "source": [
    "G = nx.from_pandas_dataframe(df, source='nameOrig', target='nameDest', edge_attr = ['amount','type'],create_using=nx.DiGraph()) "
   ]
  },
  {
   "cell_type": "code",
   "execution_count": 28,
   "metadata": {
    "collapsed": false
   },
   "outputs": [],
   "source": [
    "# create a simple graph\n",
    "#G = nx.connected_watts_strogatz_graph(30,5,.2)\n",
    "nodes = G.nodes()\n",
    "edges = G.edges()"
   ]
  },
  {
   "cell_type": "code",
   "execution_count": 29,
   "metadata": {
    "collapsed": false
   },
   "outputs": [],
   "source": [
    "# add a node attributes to color-code by\n",
    "#cc = nx.clustering(G)\n",
    "degree = G.degree()\n",
    "bc = nx.betweenness_centrality(G)\n",
    "#nx.set_node_attributes(G,'clustering_coefficient',cc)\n",
    "nx.set_node_attributes(G,'degree',degree)\n",
    "nx.set_node_attributes(G,'betweenness_centrality',bc)\n",
    "\n"
   ]
  },
  {
   "cell_type": "code",
   "execution_count": 30,
   "metadata": {
    "collapsed": false,
    "scrolled": false
   },
   "outputs": [
    {
     "data": {
      "text/html": [
       "<!doctype html><html><head>  <title>Network | Basic usage</title></head><body><script type=\"text/javascript\">function setUpFrame() {     var frame = window.frames[\"style_file0\"];    frame.runVis([{\"id\": \"C1234567\", \"color\": \"rgba(256, 25, 230, 1)\", \"degree\": 9, \"x\": 513.7159984344278, \"y\": 400.72195941937133, \"node_shape\": \"dot\", \"border_width\": 0, \"title\": \"C1234567\"}, {\"id\": \"M9876543\", \"color\": \"rgba(256, 127, 128, 1)\", \"degree\": 4, \"x\": 425.76677934912436, \"y\": 884.9442910068881, \"node_shape\": \"dot\", \"border_width\": 0, \"title\": \"M9876543\"}, {\"id\": \"M9876542\", \"color\": \"rgba(256, 200, 55, 1)\", \"degree\": 3, \"x\": 111.2636432410241, \"y\": 138.6270235122589, \"node_shape\": \"dot\", \"border_width\": 0, \"title\": \"M9876542\"}, {\"id\": \"M9876541\", \"color\": \"rgba(256, 219, 36, 1)\", \"degree\": 2, \"x\": 63.418186628996565, \"y\": 610.181660933348, \"node_shape\": \"dot\", \"border_width\": 0, \"title\": \"M9876541\"}, {\"id\": \"C5555541\", \"color\": \"rgba(256, 216, 39, 1)\", \"degree\": 2, \"x\": 658.0653478464619, \"y\": 857.0075852243723, \"node_shape\": \"dot\", \"border_width\": 0, \"title\": \"C5555541\"}, {\"id\": \"C5555542\", \"color\": \"rgba(256, 216, 39, 1)\", \"degree\": 2, \"x\": 986.3274068955942, \"y\": 606.3695918587358, \"node_shape\": \"dot\", \"border_width\": 0, \"title\": \"C5555542\"}, {\"id\": \"C5555543\", \"color\": \"rgba(256, 216, 39, 1)\", \"degree\": 2, \"x\": 936.3180376990904, \"y\": 722.8302940971479, \"node_shape\": \"dot\", \"border_width\": 0, \"title\": \"C5555543\"}, {\"id\": \"C5555554\", \"color\": \"rgba(256, 230, 25, 1)\", \"degree\": 2, \"x\": 225.04995614987317, \"y\": 0.0, \"node_shape\": \"dot\", \"border_width\": 0, \"title\": \"C5555554\"}, {\"id\": \"C5555555\", \"color\": \"rgba(256, 230, 25, 1)\", \"degree\": 2, \"x\": 0.0, \"y\": 407.06778557666433, \"node_shape\": \"dot\", \"border_width\": 0, \"title\": \"C5555555\"}, {\"id\": \"C5555556\", \"color\": \"rgba(256, 219, 36, 1)\", \"degree\": 2, \"x\": 243.21289083798152, \"y\": 838.3030944118262, \"node_shape\": \"dot\", \"border_width\": 0, \"title\": \"C5555556\"}, {\"id\": \"C5555557\", \"color\": \"rgba(256, 216, 39, 1)\", \"degree\": 2, \"x\": 867.5432753669093, \"y\": 431.6184453318771, \"node_shape\": \"dot\", \"border_width\": 0, \"title\": \"C5555557\"}, {\"id\": \"C5555558\", \"color\": \"rgba(256, 216, 39, 1)\", \"degree\": 2, \"x\": 884.8874252926821, \"y\": 792.2947864542604, \"node_shape\": \"dot\", \"border_width\": 0, \"title\": \"C5555558\"}, {\"id\": \"C5555561\", \"color\": \"rgba(256, 216, 39, 1)\", \"degree\": 2, \"x\": 1000.0, \"y\": 195.382856178115, \"node_shape\": \"dot\", \"border_width\": 0, \"title\": \"C5555561\"}], [{\"source\": 0, \"target\": 1, \"color\": \"gray\", \"title\": \"test\"}, {\"source\": 0, \"target\": 2, \"color\": \"gray\", \"title\": \"test\"}, {\"source\": 0, \"target\": 3, \"color\": \"gray\", \"title\": \"test\"}, {\"source\": 1, \"target\": 4, \"color\": \"gray\", \"title\": \"test\"}, {\"source\": 1, \"target\": 5, \"color\": \"gray\", \"title\": \"test\"}, {\"source\": 1, \"target\": 6, \"color\": \"gray\", \"title\": \"test\"}, {\"source\": 2, \"target\": 7, \"color\": \"gray\", \"title\": \"test\"}, {\"source\": 2, \"target\": 8, \"color\": \"gray\", \"title\": \"test\"}, {\"source\": 3, \"target\": 9, \"color\": \"gray\", \"title\": \"test\"}, {\"source\": 4, \"target\": 10, \"color\": \"gray\", \"title\": \"test\"}, {\"source\": 5, \"target\": 11, \"color\": \"gray\", \"title\": \"test\"}, {\"source\": 6, \"target\": 12, \"color\": \"gray\", \"title\": \"test\"}, {\"source\": 7, \"target\": 0, \"color\": \"gray\", \"title\": \"test\"}, {\"source\": 8, \"target\": 0, \"color\": \"gray\", \"title\": \"test\"}, {\"source\": 9, \"target\": 0, \"color\": \"gray\", \"title\": \"test\"}, {\"source\": 10, \"target\": 0, \"color\": \"gray\", \"title\": \"test\"}, {\"source\": 11, \"target\": 0, \"color\": \"gray\", \"title\": \"test\"}, {\"source\": 12, \"target\": 0, \"color\": \"gray\", \"title\": \"test\"}]);}</script><iframe name=\"style_file0\" src=\"style_file0.html\" width=\"100%;\" height=\"805px\"></iframe></body></html>"
      ],
      "text/plain": [
       "<IPython.core.display.HTML object>"
      ]
     },
     "execution_count": 30,
     "metadata": {},
     "output_type": "execute_result"
    }
   ],
   "source": [
    "# map the betweenness centrality to the node color, using matplotlib spring_r colormap\n",
    "node_to_color = visJS2jupyter.visJS_module.return_node_to_color(G,field_to_map='betweenness_centrality',cmap=mpl.cm.spring_r,alpha = 1,\n",
    "                                                 color_max_frac = .9,color_min_frac = .1)\n",
    "\n",
    "# set node initial positions using networkx's spring_layout function\n",
    "pos = nx.spring_layout(G)\n",
    "\n",
    "nodes_dict = [{\"id\":n,\"color\":node_to_color[n],\n",
    "               \"degree\":nx.degree(G,n),\n",
    "              \"x\":pos[n][0]*1000,\n",
    "              \"y\":pos[n][1]*1000} for n in nodes\n",
    "              ]\n",
    "node_map = dict(zip(nodes,range(len(nodes))))  # map to indices for source/target in edges\n",
    "edges_dict = [{\"source\":node_map[edges[i][0]], \"target\":node_map[edges[i][1]], \n",
    "              \"color\":\"gray\",\"title\":'test'} for i in range(len(edges))]\n",
    "\n",
    "# set some network-wide styles\n",
    "visJS2jupyter.visJS_module.visjs_network(nodes_dict,edges_dict,\n",
    "                          node_size_multiplier=3,\n",
    "                          node_size_transform = '',\n",
    "                          node_color_highlight_border='red',\n",
    "                          node_color_highlight_background='#D3918B',\n",
    "                          node_color_hover_border='blue',\n",
    "                          node_color_hover_background='#8BADD3',\n",
    "                          node_font_size=15,\n",
    "                          edge_arrow_to=True,\n",
    "                          physics_enabled=True,\n",
    "                          edge_color_highlight='#8A324E',\n",
    "                          edge_color_hover='#8BADD3',\n",
    "                          edge_width=3,\n",
    "                          max_velocity=15,\n",
    "                          min_velocity=1,\n",
    "                          edge_smooth_enabled = True)"
   ]
  },
  {
   "cell_type": "code",
   "execution_count": null,
   "metadata": {
    "collapsed": true
   },
   "outputs": [],
   "source": []
  }
 ],
 "metadata": {
  "kernelspec": {
   "display_name": "Python 3",
   "language": "python",
   "name": "python3"
  },
  "language_info": {
   "codemirror_mode": {
    "name": "ipython",
    "version": 3
   },
   "file_extension": ".py",
   "mimetype": "text/x-python",
   "name": "python",
   "nbconvert_exporter": "python",
   "pygments_lexer": "ipython3",
   "version": "3.6.0"
  }
 },
 "nbformat": 4,
 "nbformat_minor": 2
}
